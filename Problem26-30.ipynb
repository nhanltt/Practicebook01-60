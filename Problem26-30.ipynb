{
 "cells": [
  {
   "cell_type": "markdown",
   "metadata": {},
   "source": [
    "#### Problem 26 - 30"
   ]
  },
  {
   "cell_type": "markdown",
   "metadata": {},
   "source": [
    "#### Nhan Thi Thanh Le, Oct 01 2020"
   ]
  },
  {
   "cell_type": "markdown",
   "metadata": {},
   "source": [
    "Problem 26: Python has built-in functions min and max to compute minimum and maximum of a given list.\n",
    "Provide an implementation for these functions. What happens when you call your min and max functions with a\n",
    "list of strings?"
   ]
  },
  {
   "cell_type": "code",
   "execution_count": 3,
   "metadata": {},
   "outputs": [
    {
     "name": "stdout",
     "output_type": "stream",
     "text": [
      "1\n",
      "4\n",
      "a\n",
      "d\n"
     ]
    }
   ],
   "source": [
    "print(min([1,2,3,4])) # we can use \"max, min\" function to compute minimun and maximum of a list\n",
    "print(max([1,2,3,4])) \n",
    "print(min(['a','b','c','d'])) # we also can use \"max, min\" function for a list of string\n",
    "print(max(['a','b','c','d']))"
   ]
  },
  {
   "cell_type": "code",
   "execution_count": 4,
   "metadata": {},
   "outputs": [
    {
     "name": "stdout",
     "output_type": "stream",
     "text": [
      "(4, 1)\n",
      "('d', 'a')\n"
     ]
    }
   ],
   "source": [
    "def max_min(a):\n",
    "    x = a[0]\n",
    "    m = a[0]\n",
    "    for i in range(1,len(a)):\n",
    "        if x<a[i]:\n",
    "            x = a[i]\n",
    "        if m>a[i]:\n",
    "            m = a[i]\n",
    "    return x, m\n",
    "print(max_min([1,2,3,4]))\n",
    "print(max_min(['a','b','c','d']))"
   ]
  },
  {
   "cell_type": "markdown",
   "metadata": {},
   "source": [
    "Problem 27: Cumulative sum of a list [a, b, c, ...] is defined as [a, a+b, a+b+c, ...]. Write a\n",
    "function cumulative_sum to compute cumulative sum of a list. Does your implementation work for a list of\n",
    "strings?"
   ]
  },
  {
   "cell_type": "code",
   "execution_count": 5,
   "metadata": {},
   "outputs": [
    {
     "name": "stdout",
     "output_type": "stream",
     "text": [
      "[1, 3, 6, 10]\n",
      "[4, 7, 9, 10]\n"
     ]
    }
   ],
   "source": [
    "def cumulative(a):\n",
    "    for i in range(1,len(a)):\n",
    "        a[i] += a[i-1]\n",
    "    return a\n",
    "\n",
    "print(cumulative([1,2,3,4]))\n",
    "print(cumulative([4,3,2,1]))"
   ]
  },
  {
   "cell_type": "markdown",
   "metadata": {},
   "source": [
    "Problem 28: Write a function cumulative_product to compute cumulative product of a list of numbers"
   ]
  },
  {
   "cell_type": "code",
   "execution_count": 6,
   "metadata": {},
   "outputs": [
    {
     "name": "stdout",
     "output_type": "stream",
     "text": [
      "[1, 2, 6, 24]\n",
      "[4, 12, 24, 24]\n"
     ]
    }
   ],
   "source": [
    "def cumulative_product(a):\n",
    "    for i in range(1,len(a)):\n",
    "        a[i] *= a[i-1]\n",
    "    return a\n",
    "\n",
    "print(cumulative_product([1,2,3,4]))\n",
    "print(cumulative_product([4,3,2,1]))"
   ]
  },
  {
   "cell_type": "markdown",
   "metadata": {},
   "source": [
    "Problem 29: Write a function unique to find all the unique elements of a list."
   ]
  },
  {
   "cell_type": "code",
   "execution_count": 7,
   "metadata": {},
   "outputs": [
    {
     "data": {
      "text/plain": [
       "[1, 2, 3, 5]"
      ]
     },
     "execution_count": 7,
     "metadata": {},
     "output_type": "execute_result"
    }
   ],
   "source": [
    "# Using set\n",
    "def unique(a):\n",
    "    return(list(set(a)))\n",
    "\n",
    "unique([1,2,1,3,2,5])"
   ]
  },
  {
   "cell_type": "code",
   "execution_count": 8,
   "metadata": {},
   "outputs": [
    {
     "data": {
      "text/plain": [
       "[1, 2, 3, 5]"
      ]
     },
     "execution_count": 8,
     "metadata": {},
     "output_type": "execute_result"
    }
   ],
   "source": [
    "def b_unique(a):\n",
    "    b = []\n",
    "    for i in a:\n",
    "        if not i in b:\n",
    "            b.append(i)\n",
    "    return b\n",
    "\n",
    "b_unique([1,2,1,3,2,5])"
   ]
  },
  {
   "cell_type": "markdown",
   "metadata": {},
   "source": [
    "Problem 30: Write a function dups to find all duplicates in the list."
   ]
  },
  {
   "cell_type": "code",
   "execution_count": 9,
   "metadata": {},
   "outputs": [
    {
     "data": {
      "text/plain": [
       "[1, 2]"
      ]
     },
     "execution_count": 9,
     "metadata": {},
     "output_type": "execute_result"
    }
   ],
   "source": [
    "def dups(a):\n",
    "    b = []\n",
    "    for i in a:\n",
    "        if a.count(i)>=2 and b.count(i)==0:\n",
    "            b.append(i)\n",
    "    return b\n",
    "dups([1,2,1,3,2,5])"
   ]
  },
  {
   "cell_type": "markdown",
   "metadata": {},
   "source": [
    "END"
   ]
  },
  {
   "cell_type": "code",
   "execution_count": null,
   "metadata": {},
   "outputs": [],
   "source": []
  }
 ],
 "metadata": {
  "kernelspec": {
   "display_name": "Python 3",
   "language": "python",
   "name": "python3"
  },
  "language_info": {
   "codemirror_mode": {
    "name": "ipython",
    "version": 3
   },
   "file_extension": ".py",
   "mimetype": "text/x-python",
   "name": "python",
   "nbconvert_exporter": "python",
   "pygments_lexer": "ipython3",
   "version": "3.8.5"
  }
 },
 "nbformat": 4,
 "nbformat_minor": 4
}

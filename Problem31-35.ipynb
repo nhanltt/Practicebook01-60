{
 "cells": [
  {
   "cell_type": "markdown",
   "metadata": {},
   "source": [
    "#### Problem 31 - 35"
   ]
  },
  {
   "cell_type": "markdown",
   "metadata": {},
   "source": [
    "#### Nhan Thi Thanh Le, Oct 3 2020"
   ]
  },
  {
   "cell_type": "markdown",
   "metadata": {},
   "source": [
    "Problem 31: Write a function group(list, size) that take a list and splits into smaller lists of given size."
   ]
  },
  {
   "cell_type": "code",
   "execution_count": 1,
   "metadata": {},
   "outputs": [
    {
     "data": {
      "text/plain": [
       "[[1, 2, 3], [4, 5, 6], [7, 8, 9]]"
      ]
     },
     "execution_count": 1,
     "metadata": {},
     "output_type": "execute_result"
    }
   ],
   "source": [
    "def group(a,x):\n",
    "    b = []\n",
    "    i = 0\n",
    "    while i<len(a):\n",
    "        b.append(a[i:i+x])\n",
    "        i += x\n",
    "    return b\n",
    "\n",
    "group([1,2,3,4,5,6,7,8,9],3)"
   ]
  },
  {
   "cell_type": "markdown",
   "metadata": {},
   "source": [
    "Problem 32: Write a function lensort to sort a list of strings based on length.`"
   ]
  },
  {
   "cell_type": "code",
   "execution_count": 2,
   "metadata": {},
   "outputs": [
    {
     "name": "stdout",
     "output_type": "stream",
     "text": [
      "['c', 'perl', 'java', 'ruby', 'python', 'haskell']\n"
     ]
    }
   ],
   "source": [
    "def lensort(a):\n",
    "    a.sort(key = lambda a: len(a))\n",
    "    return a\n",
    "print(lensort(['python', 'perl', 'java', 'c', 'haskell', 'ruby']))"
   ]
  },
  {
   "cell_type": "markdown",
   "metadata": {},
   "source": [
    "Problem 33: Improve the unique function written in previous problems to take an optional key function as argument and use the return value of the key function to check for uniqueness."
   ]
  },
  {
   "cell_type": "code",
   "execution_count": 5,
   "metadata": {},
   "outputs": [
    {
     "data": {
      "text/plain": [
       "['python', 'java']"
      ]
     },
     "execution_count": 5,
     "metadata": {},
     "output_type": "execute_result"
    }
   ],
   "source": [
    "def unique(a, key=lambda s: s):\n",
    "    b = []\n",
    "    for i in range(len(a)):\n",
    "        if not key(a[i]) in b:\n",
    "            b.append(key(a[i]))\n",
    "    return b\n",
    "# unique(['Python', 'java', 'Python', 'Java'])\n",
    "unique(['python', 'java', 'Python', 'Java'], key = lambda s: s.lower())"
   ]
  },
  {
   "cell_type": "markdown",
   "metadata": {},
   "source": [
    "Problem 34: Reimplement the unique function implemented in the earlier examples using sets."
   ]
  },
  {
   "cell_type": "code",
   "execution_count": 6,
   "metadata": {},
   "outputs": [
    {
     "data": {
      "text/plain": [
       "['java', 'python']"
      ]
     },
     "execution_count": 6,
     "metadata": {},
     "output_type": "execute_result"
    }
   ],
   "source": [
    "def unique(a, key=lambda s: s):\n",
    "    for i in range(len(a)):\n",
    "        a[i] = key(a[i])\n",
    "    return list(set(a))\n",
    "unique(['python', 'java', 'Python', 'Java'], key = lambda s: s.lower())"
   ]
  },
  {
   "cell_type": "markdown",
   "metadata": {},
   "source": [
    "Problem 35: Write a function extsort to sort a list of files based on extension."
   ]
  },
  {
   "cell_type": "code",
   "execution_count": 7,
   "metadata": {},
   "outputs": [
    {
     "data": {
      "text/plain": [
       "['a.c', 'x.c', 'a.py', 'b.py', 'bar.txt', 'foo.txt']"
      ]
     },
     "execution_count": 7,
     "metadata": {},
     "output_type": "execute_result"
    }
   ],
   "source": [
    "def insort(a,i):\n",
    "    a.sort(key = lambda x: x[i])\n",
    "    return a\n",
    "\n",
    "\n",
    "def exsort(a):\n",
    "    b = []\n",
    "    for i in range(len(a)):\n",
    "        b.append(a[i].split('.'))\n",
    "    b = insort(b,1)\n",
    "    s = 0\n",
    "    e = 0\n",
    "    b.append(['#','#'])\n",
    "    for i in range(len(a)):\n",
    "        if b[i][1] != b[i+1][1]:\n",
    "            e = i + 1\n",
    "            b[s:e] = insort(b[s:e],0)\n",
    "            s = e\n",
    "    for i in range(len(a)):\n",
    "        a[i] = b[i][0]+'.'+b[i][1]\n",
    "    return a\n",
    "    \n",
    "exsort(['a.c', 'b.py', 'a.py', 'foo.txt', 'bar.txt', 'x.c'])"
   ]
  },
  {
   "cell_type": "markdown",
   "metadata": {},
   "source": [
    "END"
   ]
  },
  {
   "cell_type": "code",
   "execution_count": null,
   "metadata": {},
   "outputs": [],
   "source": []
  }
 ],
 "metadata": {
  "kernelspec": {
   "display_name": "Python 3",
   "language": "python",
   "name": "python3"
  },
  "language_info": {
   "codemirror_mode": {
    "name": "ipython",
    "version": 3
   },
   "file_extension": ".py",
   "mimetype": "text/x-python",
   "name": "python",
   "nbconvert_exporter": "python",
   "pygments_lexer": "ipython3",
   "version": "3.8.5"
  }
 },
 "nbformat": 4,
 "nbformat_minor": 4
}

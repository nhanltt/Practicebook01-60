{
 "cells": [
  {
   "cell_type": "markdown",
   "metadata": {},
   "source": [
    "#### Problem 36 - 40"
   ]
  },
  {
   "cell_type": "markdown",
   "metadata": {},
   "source": [
    "#### Nhan Thi Thanh Le, Oct 5 2020"
   ]
  },
  {
   "cell_type": "markdown",
   "metadata": {},
   "source": [
    "Problem 36: Write a program reverse.py to print lines of a file in reverse order"
   ]
  },
  {
   "cell_type": "code",
   "execution_count": 2,
   "metadata": {},
   "outputs": [],
   "source": [
    "with open(\"she.txt\", \"a\") as she:\n",
    "    she.write(\"She sells seashells on the seashore;\\nThe shells that she sells are seashells I'm sure.\\nSo if she sells seashells on the seashore,\\nI'm sure that she sells are seashore shells.\")"
   ]
  },
  {
   "cell_type": "code",
   "execution_count": 11,
   "metadata": {},
   "outputs": [
    {
     "name": "stdout",
     "output_type": "stream",
     "text": [
      "I'm sure that she sells are seashore shells.\n",
      "So if she sells seashells on the seashore,\n",
      "The shells that she sells are seashells I'm sure.\n",
      "She sells seashells on the seashore;She sells seashells on the seashore;\n",
      "The shells that she sells are seashells I'm sure.\n",
      "So if she sells seashells on the seashore,\n",
      "I'm sure that the shells are seashore shells.\n"
     ]
    }
   ],
   "source": [
    "f = open(\"she.txt\").read().splitlines()\n",
    "for i in range(len(f)-1, -1, -1):\n",
    "    print(f[i])"
   ]
  },
  {
   "cell_type": "markdown",
   "metadata": {},
   "source": [
    "Problem 37: Write a program to print each line of a file in reverse order"
   ]
  },
  {
   "cell_type": "code",
   "execution_count": 10,
   "metadata": {},
   "outputs": [
    {
     "name": "stdout",
     "output_type": "stream",
     "text": [
      ".sllehs erohsaes era sllehs eht taht erus m'I\n",
      ",erohsaes eht no sllehsaes slles ehs fi oS\n",
      ".erus m'I sllehsaes era slles ehs taht sllehs ehT\n",
      ";erohsaes eht no sllehsaes slles ehS;erohsaes eht no sllehsaes slles ehS\n",
      ".erus m'I sllehsaes era slles ehs taht sllehs ehT\n",
      ",erohsaes eht no sllehsaes slles ehs fi oS\n",
      ".sllehs erohsaes era slles ehs taht erus m'I\n"
     ]
    }
   ],
   "source": [
    "f = open(\"she.txt\").read().splitlines()\n",
    "for i in f:\n",
    "    print(i[::-1])"
   ]
  },
  {
   "cell_type": "markdown",
   "metadata": {},
   "source": [
    "Problem 38: Implement unix commands head and tail. The head and tail commands take a file as argument and prints its first and last 10 lines of the file respectively."
   ]
  },
  {
   "cell_type": "code",
   "execution_count": 13,
   "metadata": {},
   "outputs": [
    {
     "name": "stdout",
     "output_type": "stream",
     "text": [
      "1\n",
      "2\n",
      "3\n",
      "4\n",
      "5\n",
      "6\n",
      "7\n",
      "8\n",
      "9\n",
      "10\n",
      "4\n",
      "5\n",
      "6\n",
      "7\n",
      "8\n",
      "9\n",
      "10\n",
      "11\n",
      "12\n",
      "13\n"
     ]
    }
   ],
   "source": [
    "f = open(\"problem38.txt\").read().splitlines()\n",
    "# head\n",
    "if len(f)<10:\n",
    "    for i in range(len(f)):\n",
    "        print(f[i])\n",
    "else :\n",
    "    for i in range(10):\n",
    "        print(f[i])\n",
    "# tail\n",
    "if len(f)<10:\n",
    "    for i in range(len(f)):\n",
    "        print(f[i])\n",
    "else :\n",
    "    for i in range(len(f)-10, len(f)):\n",
    "        print(f[i])"
   ]
  },
  {
   "cell_type": "markdown",
   "metadata": {},
   "source": [
    "Problem 39: Implement unix command grep. The grep command takes a string and a file as arguments and\n",
    "prints all lines in the file which contain the specified string."
   ]
  },
  {
   "cell_type": "code",
   "execution_count": 17,
   "metadata": {},
   "outputs": [
    {
     "name": "stdout",
     "output_type": "stream",
     "text": [
      "key word: sure\n",
      "I'm sure that she sells are seashore shells.\n",
      "The shells that she sells are seashells I'm sure.\n"
     ]
    }
   ],
   "source": [
    "f = open(\"problem39.txt\").read().splitlines()\n",
    "key = input(\"key word: \")\n",
    "for i in range(len(f)):\n",
    "    if key in f[i]:\n",
    "        print(f[i])"
   ]
  },
  {
   "cell_type": "markdown",
   "metadata": {},
   "source": [
    "Problem 40: Write a program wrap.py that takes filename and width as aruguments and wraps the lines longer\n",
    "than width."
   ]
  },
  {
   "cell_type": "code",
   "execution_count": 19,
   "metadata": {},
   "outputs": [
    {
     "name": "stdout",
     "output_type": "stream",
     "text": [
      "lenght of every lines: 30\n",
      "I'm sure that she sells are se\n",
      "ashore shells.\n",
      "\n",
      "So if she sells seashells on t\n",
      "he seashore,\n",
      "\n",
      "The shells that she sells are \n",
      "seashells I'm sure.\n",
      "\n",
      "She sells seashells on the sea\n",
      "shore;\n"
     ]
    }
   ],
   "source": [
    "f = open(\"problem39.txt\", \"r\")\n",
    "a = []\n",
    "for i in f:\n",
    "    a.append(i)\n",
    "f.close()\n",
    "lenght = int(input(\"lenght of every lines: \"))\n",
    "for i in range(len(a)):\n",
    "    if len(a[i])<=lenght:\n",
    "        print(a[i])\n",
    "    else :\n",
    "        print(a[i][0:lenght])\n",
    "        print(a[i][lenght:len(a[i])])"
   ]
  },
  {
   "cell_type": "markdown",
   "metadata": {},
   "source": [
    "END"
   ]
  },
  {
   "cell_type": "code",
   "execution_count": null,
   "metadata": {},
   "outputs": [],
   "source": []
  }
 ],
 "metadata": {
  "kernelspec": {
   "display_name": "Python 3",
   "language": "python",
   "name": "python3"
  },
  "language_info": {
   "codemirror_mode": {
    "name": "ipython",
    "version": 3
   },
   "file_extension": ".py",
   "mimetype": "text/x-python",
   "name": "python",
   "nbconvert_exporter": "python",
   "pygments_lexer": "ipython3",
   "version": "3.8.5"
  }
 },
 "nbformat": 4,
 "nbformat_minor": 4
}

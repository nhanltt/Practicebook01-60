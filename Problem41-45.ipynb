{
 "cells": [
  {
   "cell_type": "markdown",
   "metadata": {},
   "source": [
    "#### Problem 41- 45"
   ]
  },
  {
   "cell_type": "markdown",
   "metadata": {},
   "source": [
    "#### Nhan Thi Thanh Le, Oct 7 2020"
   ]
  },
  {
   "cell_type": "markdown",
   "metadata": {},
   "source": [
    "Problem 41: The above wrap program is not so nice because it is breaking the line at middle of any word. Can\n",
    "you write a new program wordwrap.py that works like wrap.py, but breaks the line only at the word boundaries?"
   ]
  },
  {
   "cell_type": "code",
   "execution_count": 21,
   "metadata": {},
   "outputs": [
    {
     "name": "stdout",
     "output_type": "stream",
     "text": [
      "lenght of every lines: 30\n",
      "I'm sure that she sells are\n",
      "seashore shells.\n",
      "So if she sells seashells on\n",
      "the seashore,\n",
      "The shells that she sells are\n",
      "seashells I'm sure.\n",
      "She sells seashells on the\n",
      "seashore;usfau gfuguoagf\n",
      "ougsa jbsjhbuas vfouv auosfv\n",
      "shfvaugs ugfua sjbuaguo sgifa\n"
     ]
    }
   ],
   "source": [
    "f = open(\"problem39.txt\").read().splitlines()\n",
    "lenght = int(input(\"lenght of every lines: \"))\n",
    "\n",
    "# binary search\n",
    "def find(a,x):\n",
    "    l = 0\n",
    "    r = len(a)\n",
    "    while l < r:\n",
    "        i = (l + r)//2\n",
    "        if a[i] == x:\n",
    "            return i\n",
    "        if a[i] < x:\n",
    "            l = i + 1 \n",
    "        else : r = i\n",
    "    \n",
    "    return i\n",
    "            \n",
    "for i in range(len(f)):\n",
    "    if len(f[i])<=lenght:\n",
    "        print(f[i])\n",
    "    else :\n",
    "        s = f[i].split(' ')\n",
    "        leng = [0 for i in range(len(s))]\n",
    "        leng[0] = len(s[0])\n",
    "        for i in range(1, len(s)):\n",
    "            leng[i] = len(s[i]) + leng[i-1] + 1\n",
    "        \n",
    "        while leng[len(leng)-1]>lenght:\n",
    "            pos = find(leng, lenght)\n",
    "            val = leng[pos]\n",
    "            print(' '.join(s[0:pos+1]))\n",
    "            for i in range(pos+1):\n",
    "                s.pop(0)\n",
    "                leng.pop(0)\n",
    "            for i in range(len(leng)):\n",
    "                leng[i] -= val\n",
    "        if len(s) != 0:\n",
    "            print(' '.join(s))"
   ]
  },
  {
   "cell_type": "markdown",
   "metadata": {},
   "source": [
    "Problem 42: Write a program center_align.py to center align all lines in the given file."
   ]
  },
  {
   "cell_type": "code",
   "execution_count": 1,
   "metadata": {},
   "outputs": [
    {
     "name": "stdout",
     "output_type": "stream",
     "text": [
      "  I'm sure that the shells are seashore shells.\n",
      "\n",
      "   So if she sells seashells on the seashore,\n",
      "\n",
      "The shells that she sells are seashells I'm sure.\n",
      "\n",
      "       She sells seashells on the seashore;\n"
     ]
    }
   ],
   "source": [
    "f = open(\"she.txt\",\"r\")\n",
    "a = []\n",
    "lenMax = 0\n",
    "for i in f:\n",
    "    a.append(i)\n",
    "    if len(i)>lenMax: lenMax = len(i)\n",
    "for i in a:\n",
    "    print((\" \"*((lenMax-len(i))//2)+i))"
   ]
  },
  {
   "cell_type": "markdown",
   "metadata": {},
   "source": [
    "Problem 43: Provide an implementation for zip function using list comprehensions."
   ]
  },
  {
   "cell_type": "code",
   "execution_count": 2,
   "metadata": {},
   "outputs": [
    {
     "name": "stdout",
     "output_type": "stream",
     "text": [
      "[(1, 'a'), (2, 'b'), (3, 'c')]\n"
     ]
    }
   ],
   "source": [
    "a = zip([1,2,3],[\"a\",\"b\",\"c\"])\n",
    "print(list(a))"
   ]
  },
  {
   "cell_type": "code",
   "execution_count": 3,
   "metadata": {},
   "outputs": [
    {
     "data": {
      "text/plain": [
       "[(1, 'a'), (2, 'b'), (3, 'c')]"
      ]
     },
     "execution_count": 3,
     "metadata": {},
     "output_type": "execute_result"
    }
   ],
   "source": [
    "def myzip(a):\n",
    "    lenMin = 10**2\n",
    "    for i in a:\n",
    "        if len(i)<lenMin:\n",
    "            lenMin = len(i) \n",
    "    b=[set() for i in range(lenMin)]\n",
    "    for j in range(lenMin):\n",
    "        for i in range(len(a)):\n",
    "            b[j].add(a[i][j])\n",
    "    b = [tuple(b[i]) for i in range(lenMin)]\n",
    "    return b\n",
    "myzip([[1,2,3],[\"a\",\"b\",\"c\"]])"
   ]
  },
  {
   "cell_type": "markdown",
   "metadata": {},
   "source": [
    "Problem 44: Python provides a built-in function map that applies a function to each element of a list. Provide an implementation for map using list comprehensions."
   ]
  },
  {
   "cell_type": "code",
   "execution_count": 4,
   "metadata": {},
   "outputs": [
    {
     "name": "stdout",
     "output_type": "stream",
     "text": [
      "[0, 1, 4, 9, 16]\n"
     ]
    }
   ],
   "source": [
    "# follow example of the book\n",
    "def square(n): return n**2\n",
    "print(list(map(square, range(5))))"
   ]
  },
  {
   "cell_type": "code",
   "execution_count": 5,
   "metadata": {},
   "outputs": [
    {
     "name": "stdout",
     "output_type": "stream",
     "text": [
      "[12.57, 113.1, 530.93]\n"
     ]
    }
   ],
   "source": [
    "# write by myself\n",
    "import math\n",
    "a = [2, 6, 13]\n",
    "print([round(r*r*math.pi,2) for r in a])"
   ]
  },
  {
   "cell_type": "markdown",
   "metadata": {},
   "source": [
    "Problem 45: Python provides a built-in function filter(f, a) that returns items of the list a for which f(item) returns true. Provide an implementation for filter using list comprehensions."
   ]
  },
  {
   "cell_type": "code",
   "execution_count": 6,
   "metadata": {},
   "outputs": [
    {
     "name": "stdout",
     "output_type": "stream",
     "text": [
      "[0, 2, 4, 6, 8]\n"
     ]
    }
   ],
   "source": [
    "# follow example of the book\n",
    "def even(x): return x %2 == 0\n",
    "print(list(filter(even, range(10))))"
   ]
  },
  {
   "cell_type": "code",
   "execution_count": 7,
   "metadata": {},
   "outputs": [
    {
     "name": "stdout",
     "output_type": "stream",
     "text": [
      "[0, 2, 4, 6, 8]\n"
     ]
    }
   ],
   "source": [
    "# write code by using list comprensions\n",
    "print([x for x in range(10) if x %2 ==0])"
   ]
  },
  {
   "cell_type": "markdown",
   "metadata": {},
   "source": [
    "END"
   ]
  },
  {
   "cell_type": "code",
   "execution_count": null,
   "metadata": {},
   "outputs": [],
   "source": []
  }
 ],
 "metadata": {
  "kernelspec": {
   "display_name": "Python 3",
   "language": "python",
   "name": "python3"
  },
  "language_info": {
   "codemirror_mode": {
    "name": "ipython",
    "version": 3
   },
   "file_extension": ".py",
   "mimetype": "text/x-python",
   "name": "python",
   "nbconvert_exporter": "python",
   "pygments_lexer": "ipython3",
   "version": "3.8.5"
  }
 },
 "nbformat": 4,
 "nbformat_minor": 4
}

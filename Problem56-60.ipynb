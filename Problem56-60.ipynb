{
 "cells": [
  {
   "cell_type": "markdown",
   "metadata": {},
   "source": [
    "#### Problem 56 - 60"
   ]
  },
  {
   "cell_type": "markdown",
   "metadata": {},
   "source": [
    "#### Nhan Thi Thanh Le, Oct 09 2020"
   ]
  },
  {
   "cell_type": "markdown",
   "metadata": {},
   "source": [
    "Problem 56: Write a function valuesort to sort values of a dictionary based on the key"
   ]
  },
  {
   "cell_type": "code",
   "execution_count": 21,
   "metadata": {},
   "outputs": [
    {
     "data": {
      "text/plain": [
       "[3, 1, 2]"
      ]
     },
     "execution_count": 21,
     "metadata": {},
     "output_type": "execute_result"
    }
   ],
   "source": [
    "def valuesort(a):\n",
    "    a = dict(sorted(a.items()))\n",
    "    return(list(a.values()))\n",
    "\n",
    "valuesort({'x': 1, 'y': 2, 'a': 3})"
   ]
  },
  {
   "cell_type": "markdown",
   "metadata": {},
   "source": [
    "Problem 57: Write a function invertdict to interchange keys and values in a dictionary. For simplicity,\n",
    "assume that all values are unique."
   ]
  },
  {
   "cell_type": "code",
   "execution_count": 25,
   "metadata": {},
   "outputs": [
    {
     "data": {
      "text/plain": [
       "{1: 'x', 2: 'y', 3: 'z'}"
      ]
     },
     "execution_count": 25,
     "metadata": {},
     "output_type": "execute_result"
    }
   ],
   "source": [
    "def invertdict(a):\n",
    "    newdict = {}\n",
    "    for key, value in a.items():\n",
    "        k, v = value, key\n",
    "        newdict[k] = v\n",
    "    return newdict\n",
    "\n",
    "invertdict({'x': 1, 'y': 2, 'z': 3})"
   ]
  },
  {
   "cell_type": "markdown",
   "metadata": {},
   "source": [
    "Problem 58: Write a program to list all files in the given directory."
   ]
  },
  {
   "cell_type": "code",
   "execution_count": 33,
   "metadata": {},
   "outputs": [
    {
     "name": "stdout",
     "output_type": "stream",
     "text": [
      "enter the directory of file: C:\\Users\\ASUS\\HW_A_Vara\n",
      "['.idea', '.ipynb_checkpoints', 'clearout.py', 'CoffeeCal', 'cursor.py', 'exam27.8.20.py', 'learnsubprocess.py', 'learn_numpy.py', 'OilPrice', 'practicebook.py', 'PracticeBook1-60', 'Problem25-30.ipynb', 'Untitled.ipynb', 'Untitled1.ipynb', 'Untitled2.ipynb']\n"
     ]
    }
   ],
   "source": [
    "from os import listdir\n",
    "from os.path import isfile, join\n",
    "mypath = input(\"enter the directory of file: \")\n",
    "myfile = [f for f in listdir(mypath)]\n",
    "print(myfile)"
   ]
  },
  {
   "cell_type": "markdown",
   "metadata": {},
   "source": [
    "Problem 59: Write a program extcount.py to count number of files for each extension in the given directory. The\n",
    "program should take a directory name as argument and print count and extension for each available file extension."
   ]
  },
  {
   "cell_type": "code",
   "execution_count": 55,
   "metadata": {},
   "outputs": [
    {
     "name": "stdout",
     "output_type": "stream",
     "text": [
      "enter the directory of file: C:\\Users\\ASUS\\HW_A_Vara\n",
      "6 py\n",
      "4 ipynb\n"
     ]
    }
   ],
   "source": [
    "import os\n",
    "from os import listdir\n",
    "from os.path import isfile, join\n",
    "\n",
    "mypath = input(\"enter the directory of file: \")\n",
    "myfile = [f for f in listdir(mypath)]\n",
    "ext = []\n",
    "name = []\n",
    "for file in myfile:\n",
    "    x = os.path.splitext(file)\n",
    "    a = str(x[1]).strip('.')\n",
    "    if a != '':\n",
    "        if (not a in name) :\n",
    "            name.append(a)\n",
    "            ext.append(1)\n",
    "        else :\n",
    "            ext[name.index(a)] += 1\n",
    "for i in range(len(name)):\n",
    "    print(ext[i], name[i])"
   ]
  },
  {
   "cell_type": "markdown",
   "metadata": {},
   "source": [
    "Problem 60: Write a program to list all the files in the given directory along with their length and last modification\n",
    "time. The output should contain one line for each file containing filename, length and modification date separated\n",
    "by tabs. Hint: see help for os.stat."
   ]
  },
  {
   "cell_type": "code",
   "execution_count": 66,
   "metadata": {},
   "outputs": [
    {
     "name": "stdout",
     "output_type": "stream",
     "text": [
      "Directory: C:\\Users\\ASUS\\HW_A_Vara\n",
      ".idea 2020-10-07 08:09:07.030065 4096\n",
      ".ipynb_checkpoints 2020-10-07 08:09:07.030065 4096\n",
      "clearout.py 2020-10-07 08:09:07.030065 449\n",
      "CoffeeCal 2020-10-07 08:09:07.030065 4096\n",
      "cursor.py 2020-10-07 08:09:07.030065 283\n",
      "exam27.8.20.py 2020-10-07 08:09:07.030065 976\n",
      "learnsubprocess.py 2020-10-07 08:09:07.030065 5136\n",
      "learn_numpy.py 2020-10-07 08:09:07.030065 975\n",
      "OilPrice 2020-10-07 08:09:07.030065 4096\n",
      "practicebook.py 2020-10-07 08:09:07.030065 10\n",
      "PracticeBook1-60 2020-10-07 08:09:07.030065 4096\n",
      "Problem25-30.ipynb 2020-10-07 08:09:07.030065 7109\n",
      "Untitled.ipynb 2020-10-07 08:09:07.030065 7117\n",
      "Untitled1.ipynb 2020-10-07 08:09:07.030065 429\n",
      "Untitled2.ipynb 2020-10-07 08:09:07.030065 72\n"
     ]
    }
   ],
   "source": [
    "import os\n",
    "import datetime\n",
    "from os import listdir\n",
    "\n",
    "\n",
    "directory = input(\"Directory: \")\n",
    "myfile = [f for f in listdir(directory)]\n",
    "# print(get_time_size(directory))\n",
    "for file in myfile:\n",
    "    file_infor = os.stat(os.path.join(directory,file))\n",
    "    size = file_infor.st_size\n",
    "    t = datetime.datetime.fromtimestamp(file_infor.st_mtime)\n",
    "    print(file, time, size)"
   ]
  },
  {
   "cell_type": "markdown",
   "metadata": {},
   "source": [
    "END"
   ]
  },
  {
   "cell_type": "code",
   "execution_count": null,
   "metadata": {},
   "outputs": [],
   "source": []
  }
 ],
 "metadata": {
  "kernelspec": {
   "display_name": "Python 3",
   "language": "python",
   "name": "python3"
  },
  "language_info": {
   "codemirror_mode": {
    "name": "ipython",
    "version": 3
   },
   "file_extension": ".py",
   "mimetype": "text/x-python",
   "name": "python",
   "nbconvert_exporter": "python",
   "pygments_lexer": "ipython3",
   "version": "3.8.5"
  }
 },
 "nbformat": 4,
 "nbformat_minor": 4
}
